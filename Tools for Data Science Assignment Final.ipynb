{
 "cells": [
  {
   "cell_type": "markdown",
   "id": "8cfc0fd2",
   "metadata": {},
   "source": [
    "# My Jupyter Notebook on IBM Watson Studio"
   ]
  },
  {
   "cell_type": "markdown",
   "id": "1370d0f9",
   "metadata": {},
   "source": [
    "**Siddharth Mallya, \n",
    "Executive Director in a Construction Company**"
   ]
  },
  {
   "cell_type": "markdown",
   "id": "69365645",
   "metadata": {},
   "source": [
    "*I am interested in Data Science because it will be a tool for the future*"
   ]
  },
  {
   "cell_type": "markdown",
   "id": "f398595a",
   "metadata": {},
   "source": [
    "### This is a simple code that will take user input for name, and greet them."
   ]
  },
  {
   "cell_type": "code",
   "execution_count": 4,
   "id": "8d6af5cb",
   "metadata": {},
   "outputs": [
    {
     "name": "stdout",
     "output_type": "stream",
     "text": [
      "What is your name: SId\n",
      "Hello, SId!\n"
     ]
    }
   ],
   "source": [
    "name = input(\"What is your name: \")\n",
    "print(\"Hello, \" + name +\"!\")"
   ]
  },
  {
   "cell_type": "markdown",
   "id": "1f8f329a",
   "metadata": {},
   "source": [
    "To perform at least three from the following: horizontal rule, bulleted list, numbered list, tables, hyperlinks, images, code/syntax highlighting, blocked quotes, strikethrough."
   ]
  },
  {
   "cell_type": "markdown",
   "id": "544a6946",
   "metadata": {},
   "source": [
    "**Strikethrough:** ~~This is a test~~"
   ]
  },
  {
   "cell_type": "markdown",
   "id": "87c7e17b",
   "metadata": {},
   "source": [
    "**Numbered list:** \n",
    "1. This\n",
    "2. is \n",
    "3. a \n",
    "4. test."
   ]
  },
  {
   "cell_type": "markdown",
   "id": "3c394f30",
   "metadata": {},
   "source": [
    "**Bulleted list:**\n",
    "\n",
    "- This\n",
    "- is\n",
    "- a \n",
    "- test"
   ]
  },
  {
   "cell_type": "markdown",
   "id": "e7f92f44",
   "metadata": {},
   "source": [
    "**Hyperlink**:\n",
    "\n",
    "<a href=\"https://www.youtube.com/watch?v=dQw4w9WgXcQ\" >Try this!</a>"
   ]
  },
  {
   "cell_type": "code",
   "execution_count": null,
   "id": "877dea6a",
   "metadata": {},
   "outputs": [],
   "source": []
  }
 ],
 "metadata": {
  "kernelspec": {
   "display_name": "Python 3 (ipykernel)",
   "language": "python",
   "name": "python3"
  },
  "language_info": {
   "codemirror_mode": {
    "name": "ipython",
    "version": 3
   },
   "file_extension": ".py",
   "mimetype": "text/x-python",
   "name": "python",
   "nbconvert_exporter": "python",
   "pygments_lexer": "ipython3",
   "version": "3.9.7"
  }
 },
 "nbformat": 4,
 "nbformat_minor": 5
}
